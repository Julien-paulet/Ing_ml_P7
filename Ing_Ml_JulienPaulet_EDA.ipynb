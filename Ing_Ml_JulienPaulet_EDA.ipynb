{
 "cells": [
  {
   "cell_type": "code",
   "execution_count": 1,
   "metadata": {},
   "outputs": [],
   "source": [
    "import pandas as pd\n",
    "import numpy as np\n",
    "import nltk\n",
    "import sklearn\n",
    "import string\n",
    "import re\n",
    "from collections import defaultdict\n",
    "import matplotlib.pyplot as plt\n",
    "import seaborn as sns\n",
    "import matplotlib.pyplot as plt\n",
    "import seaborn as sns\n",
    "from lxml import html\n",
    "import nltk\n",
    "from nltk.stem.snowball import EnglishStemmer\n",
    "from sklearn.feature_extraction.text import TfidfVectorizer\n",
    "from sklearn.feature_extraction.text import CountVectorizer\n",
    "#from sklearn.model_selection import train_test_split\n",
    "#from sklearn.manifold import TSNE"
   ]
  },
  {
   "cell_type": "markdown",
   "metadata": {},
   "source": [
    "# Loading Data"
   ]
  },
  {
   "cell_type": "code",
   "execution_count": 2,
   "metadata": {},
   "outputs": [],
   "source": [
    "data = pd.read_csv('QueryResults2.csv')\n",
    "data = data.set_index('Id')"
   ]
  },
  {
   "cell_type": "code",
   "execution_count": 3,
   "metadata": {},
   "outputs": [
    {
     "data": {
      "text/html": [
       "<div>\n",
       "<style scoped>\n",
       "    .dataframe tbody tr th:only-of-type {\n",
       "        vertical-align: middle;\n",
       "    }\n",
       "\n",
       "    .dataframe tbody tr th {\n",
       "        vertical-align: top;\n",
       "    }\n",
       "\n",
       "    .dataframe thead th {\n",
       "        text-align: right;\n",
       "    }\n",
       "</style>\n",
       "<table border=\"1\" class=\"dataframe\">\n",
       "  <thead>\n",
       "    <tr style=\"text-align: right;\">\n",
       "      <th></th>\n",
       "      <th>PostTypeId</th>\n",
       "      <th>AcceptedAnswerId</th>\n",
       "      <th>ParentId</th>\n",
       "      <th>CreationDate</th>\n",
       "      <th>DeletionDate</th>\n",
       "      <th>Score</th>\n",
       "      <th>ViewCount</th>\n",
       "      <th>Body</th>\n",
       "      <th>OwnerUserId</th>\n",
       "      <th>OwnerDisplayName</th>\n",
       "      <th>...</th>\n",
       "      <th>LastEditDate</th>\n",
       "      <th>LastActivityDate</th>\n",
       "      <th>Title</th>\n",
       "      <th>Tags</th>\n",
       "      <th>AnswerCount</th>\n",
       "      <th>CommentCount</th>\n",
       "      <th>FavoriteCount</th>\n",
       "      <th>ClosedDate</th>\n",
       "      <th>CommunityOwnedDate</th>\n",
       "      <th>ContentLicense</th>\n",
       "    </tr>\n",
       "    <tr>\n",
       "      <th>Id</th>\n",
       "      <th></th>\n",
       "      <th></th>\n",
       "      <th></th>\n",
       "      <th></th>\n",
       "      <th></th>\n",
       "      <th></th>\n",
       "      <th></th>\n",
       "      <th></th>\n",
       "      <th></th>\n",
       "      <th></th>\n",
       "      <th></th>\n",
       "      <th></th>\n",
       "      <th></th>\n",
       "      <th></th>\n",
       "      <th></th>\n",
       "      <th></th>\n",
       "      <th></th>\n",
       "      <th></th>\n",
       "      <th></th>\n",
       "      <th></th>\n",
       "      <th></th>\n",
       "    </tr>\n",
       "  </thead>\n",
       "  <tbody>\n",
       "    <tr>\n",
       "      <th>591865</th>\n",
       "      <td>1</td>\n",
       "      <td>591935</td>\n",
       "      <td>NaN</td>\n",
       "      <td>2009-02-26 18:38:03</td>\n",
       "      <td>NaN</td>\n",
       "      <td>5</td>\n",
       "      <td>7386</td>\n",
       "      <td>&lt;p&gt;I have some exposure to CakePHP and think i...</td>\n",
       "      <td>191083.0</td>\n",
       "      <td>bLee</td>\n",
       "      <td>...</td>\n",
       "      <td>2010-12-11 21:30:41</td>\n",
       "      <td>2012-12-15 16:53:39</td>\n",
       "      <td>Qcodo vs. CakePHP vs. Zend</td>\n",
       "      <td>&lt;php&gt;&lt;zend-framework&gt;&lt;cakephp&gt;&lt;qcodo&gt;</td>\n",
       "      <td>9</td>\n",
       "      <td>0</td>\n",
       "      <td>5.0</td>\n",
       "      <td>2012-11-25 08:24:26</td>\n",
       "      <td>NaN</td>\n",
       "      <td>CC BY-SA 2.5</td>\n",
       "    </tr>\n",
       "    <tr>\n",
       "      <th>591892</th>\n",
       "      <td>1</td>\n",
       "      <td>614382</td>\n",
       "      <td>NaN</td>\n",
       "      <td>2009-02-26 18:43:23</td>\n",
       "      <td>NaN</td>\n",
       "      <td>104</td>\n",
       "      <td>87988</td>\n",
       "      <td>&lt;p&gt;I'm looking for recommendations of a good, ...</td>\n",
       "      <td>20860.0</td>\n",
       "      <td>Bill Karwin</td>\n",
       "      <td>...</td>\n",
       "      <td>2013-09-25 20:29:59</td>\n",
       "      <td>2013-09-25 20:29:59</td>\n",
       "      <td>Tools for Generating Mock Data?</td>\n",
       "      <td>&lt;testing&gt;&lt;data-generation&gt;</td>\n",
       "      <td>16</td>\n",
       "      <td>3</td>\n",
       "      <td>134.0</td>\n",
       "      <td>2013-07-23 21:38:25</td>\n",
       "      <td>NaN</td>\n",
       "      <td>CC BY-SA 2.5</td>\n",
       "    </tr>\n",
       "    <tr>\n",
       "      <th>41441462</th>\n",
       "      <td>1</td>\n",
       "      <td>41441526</td>\n",
       "      <td>NaN</td>\n",
       "      <td>2017-01-03 10:32:20</td>\n",
       "      <td>NaN</td>\n",
       "      <td>6</td>\n",
       "      <td>16648</td>\n",
       "      <td>&lt;p&gt;I have &lt;code&gt;centos7&lt;/code&gt; &lt;code&gt;php56&lt;/co...</td>\n",
       "      <td>5010413.0</td>\n",
       "      <td>NaN</td>\n",
       "      <td>...</td>\n",
       "      <td>NaN</td>\n",
       "      <td>2017-01-03 10:35:16</td>\n",
       "      <td>Laravel: The use statement with non-compound n...</td>\n",
       "      <td>&lt;php&gt;&lt;laravel&gt;&lt;caching&gt;</td>\n",
       "      <td>2</td>\n",
       "      <td>2</td>\n",
       "      <td>1.0</td>\n",
       "      <td>2017-01-03 11:09:49</td>\n",
       "      <td>NaN</td>\n",
       "      <td>CC BY-SA 3.0</td>\n",
       "    </tr>\n",
       "    <tr>\n",
       "      <th>9552725</th>\n",
       "      <td>1</td>\n",
       "      <td>10011634</td>\n",
       "      <td>NaN</td>\n",
       "      <td>2012-03-04 05:59:27</td>\n",
       "      <td>NaN</td>\n",
       "      <td>4</td>\n",
       "      <td>26053</td>\n",
       "      <td>&lt;p&gt;A &lt;a href=\"http://docs.oracle.com/javase/7/...</td>\n",
       "      <td>666891.0</td>\n",
       "      <td>NaN</td>\n",
       "      <td>...</td>\n",
       "      <td>2017-10-17 00:58:32</td>\n",
       "      <td>2017-10-17 00:58:32</td>\n",
       "      <td>Add trustStore for client authentication</td>\n",
       "      <td>&lt;java&gt;&lt;ssl&gt;&lt;keystore&gt;&lt;truststore&gt;</td>\n",
       "      <td>2</td>\n",
       "      <td>0</td>\n",
       "      <td>5.0</td>\n",
       "      <td>2017-10-17 00:47:12</td>\n",
       "      <td>NaN</td>\n",
       "      <td>CC BY-SA 3.0</td>\n",
       "    </tr>\n",
       "    <tr>\n",
       "      <th>33014984</th>\n",
       "      <td>1</td>\n",
       "      <td>33015045</td>\n",
       "      <td>NaN</td>\n",
       "      <td>2015-10-08 11:50:55</td>\n",
       "      <td>NaN</td>\n",
       "      <td>0</td>\n",
       "      <td>68</td>\n",
       "      <td>&lt;pre&gt;&lt;code&gt;using System;\\n\\nnamespace ConsoleA...</td>\n",
       "      <td>1939432.0</td>\n",
       "      <td>NaN</td>\n",
       "      <td>...</td>\n",
       "      <td>2015-10-08 11:54:41</td>\n",
       "      <td>2015-10-08 11:54:41</td>\n",
       "      <td>Unassigned variable error</td>\n",
       "      <td>&lt;c#&gt;&lt;unassigned-variable&gt;</td>\n",
       "      <td>2</td>\n",
       "      <td>2</td>\n",
       "      <td>NaN</td>\n",
       "      <td>2015-10-08 11:54:21</td>\n",
       "      <td>NaN</td>\n",
       "      <td>CC BY-SA 3.0</td>\n",
       "    </tr>\n",
       "  </tbody>\n",
       "</table>\n",
       "<p>5 rows × 22 columns</p>\n",
       "</div>"
      ],
      "text/plain": [
       "          PostTypeId  AcceptedAnswerId  ParentId         CreationDate  \\\n",
       "Id                                                                      \n",
       "591865             1            591935       NaN  2009-02-26 18:38:03   \n",
       "591892             1            614382       NaN  2009-02-26 18:43:23   \n",
       "41441462           1          41441526       NaN  2017-01-03 10:32:20   \n",
       "9552725            1          10011634       NaN  2012-03-04 05:59:27   \n",
       "33014984           1          33015045       NaN  2015-10-08 11:50:55   \n",
       "\n",
       "          DeletionDate  Score  ViewCount  \\\n",
       "Id                                         \n",
       "591865             NaN      5       7386   \n",
       "591892             NaN    104      87988   \n",
       "41441462           NaN      6      16648   \n",
       "9552725            NaN      4      26053   \n",
       "33014984           NaN      0         68   \n",
       "\n",
       "                                                       Body  OwnerUserId  \\\n",
       "Id                                                                         \n",
       "591865    <p>I have some exposure to CakePHP and think i...     191083.0   \n",
       "591892    <p>I'm looking for recommendations of a good, ...      20860.0   \n",
       "41441462  <p>I have <code>centos7</code> <code>php56</co...    5010413.0   \n",
       "9552725   <p>A <a href=\"http://docs.oracle.com/javase/7/...     666891.0   \n",
       "33014984  <pre><code>using System;\\n\\nnamespace ConsoleA...    1939432.0   \n",
       "\n",
       "         OwnerDisplayName  ...         LastEditDate     LastActivityDate  \\\n",
       "Id                         ...                                             \n",
       "591865               bLee  ...  2010-12-11 21:30:41  2012-12-15 16:53:39   \n",
       "591892        Bill Karwin  ...  2013-09-25 20:29:59  2013-09-25 20:29:59   \n",
       "41441462              NaN  ...                  NaN  2017-01-03 10:35:16   \n",
       "9552725               NaN  ...  2017-10-17 00:58:32  2017-10-17 00:58:32   \n",
       "33014984              NaN  ...  2015-10-08 11:54:41  2015-10-08 11:54:41   \n",
       "\n",
       "                                                      Title  \\\n",
       "Id                                                            \n",
       "591865                           Qcodo vs. CakePHP vs. Zend   \n",
       "591892                      Tools for Generating Mock Data?   \n",
       "41441462  Laravel: The use statement with non-compound n...   \n",
       "9552725            Add trustStore for client authentication   \n",
       "33014984                          Unassigned variable error   \n",
       "\n",
       "                                           Tags AnswerCount CommentCount  \\\n",
       "Id                                                                         \n",
       "591865    <php><zend-framework><cakephp><qcodo>           9            0   \n",
       "591892               <testing><data-generation>          16            3   \n",
       "41441462                <php><laravel><caching>           2            2   \n",
       "9552725       <java><ssl><keystore><truststore>           2            0   \n",
       "33014984              <c#><unassigned-variable>           2            2   \n",
       "\n",
       "          FavoriteCount           ClosedDate  CommunityOwnedDate  \\\n",
       "Id                                                                 \n",
       "591865              5.0  2012-11-25 08:24:26                 NaN   \n",
       "591892            134.0  2013-07-23 21:38:25                 NaN   \n",
       "41441462            1.0  2017-01-03 11:09:49                 NaN   \n",
       "9552725             5.0  2017-10-17 00:47:12                 NaN   \n",
       "33014984            NaN  2015-10-08 11:54:21                 NaN   \n",
       "\n",
       "         ContentLicense  \n",
       "Id                       \n",
       "591865     CC BY-SA 2.5  \n",
       "591892     CC BY-SA 2.5  \n",
       "41441462   CC BY-SA 3.0  \n",
       "9552725    CC BY-SA 3.0  \n",
       "33014984   CC BY-SA 3.0  \n",
       "\n",
       "[5 rows x 22 columns]"
      ]
     },
     "execution_count": 3,
     "metadata": {},
     "output_type": "execute_result"
    }
   ],
   "source": [
    "data.head()"
   ]
  },
  {
   "cell_type": "markdown",
   "metadata": {},
   "source": [
    "Let's take only values that have a score >= 0 to be sure we don't have bad question (implying bad key words)"
   ]
  },
  {
   "cell_type": "code",
   "execution_count": 4,
   "metadata": {},
   "outputs": [],
   "source": [
    "#data = data[data['Score'] >= 0]"
   ]
  },
  {
   "cell_type": "markdown",
   "metadata": {},
   "source": [
    "# Working on the tags"
   ]
  },
  {
   "cell_type": "markdown",
   "metadata": {},
   "source": [
    "## Cleaning"
   ]
  },
  {
   "cell_type": "code",
   "execution_count": 5,
   "metadata": {},
   "outputs": [],
   "source": [
    "tags = data[['Tags']].copy()\n",
    "# Let's first remplace the '<'\n",
    "tags['Tags'].replace('<', '', regex=True, inplace=True)\n",
    "\n",
    "# We then split with pattern '>'\n",
    "tags['preprocessedTags'] = tags['Tags'].str.split(pat='>')\n",
    "tags['Tags_'] = [' '.join(map(str, l)) for l in tags[\"preprocessedTags\"]]"
   ]
  },
  {
   "cell_type": "markdown",
   "metadata": {},
   "source": [
    "## Analysis"
   ]
  },
  {
   "cell_type": "markdown",
   "metadata": {},
   "source": [
    "Let's first analyse the tags, see the repartition of nbr of tags per question, and the number of unique tags"
   ]
  },
  {
   "cell_type": "code",
   "execution_count": 6,
   "metadata": {},
   "outputs": [],
   "source": [
    "tagsAnalysis = tags.copy()\n",
    "tagsAnalysis['Tags'] = [' '.join(map(str, l)) for l in tagsAnalysis[\"preprocessedTags\"]]\n",
    "tagsAnalysis[\"tag_count\"] = tagsAnalysis[\"Tags\"].apply(lambda x : len(x.split()))"
   ]
  },
  {
   "cell_type": "code",
   "execution_count": 7,
   "metadata": {},
   "outputs": [
    {
     "name": "stdout",
     "output_type": "stream",
     "text": [
      "Maximum number of tags in a question:  5\n",
      "Minimum number of tags in a question:  1\n",
      "Average number of tags in a question:  2.7087\n"
     ]
    }
   ],
   "source": [
    "print( \"Maximum number of tags in a question: \", tagsAnalysis[\"tag_count\"].max())\n",
    "print( \"Minimum number of tags in a question: \", tagsAnalysis[\"tag_count\"].min())\n",
    "print( \"Average number of tags in a question: \", tagsAnalysis[\"tag_count\"].mean())"
   ]
  },
  {
   "cell_type": "code",
   "execution_count": 8,
   "metadata": {},
   "outputs": [
    {
     "data": {
      "text/plain": [
       "[]"
      ]
     },
     "execution_count": 8,
     "metadata": {},
     "output_type": "execute_result"
    },
    {
     "data": {
      "image/png": "[encoded data removed]",
      "text/plain": [
       "<Figure size 432x288 with 1 Axes>"
      ]
     },
     "metadata": {
      "needs_background": "light"
     },
     "output_type": "display_data"
    }
   ],
   "source": [
    "sns.countplot(tagsAnalysis[\"tag_count\"])\n",
    "plt.title(\"Number of tags in questions \")\n",
    "plt.xlabel(\"Number of Tags\")\n",
    "plt.ylabel(\"Frequency\")\n",
    "plt.plot()"
   ]
  },
  {
   "cell_type": "markdown",
   "metadata": {},
   "source": [
    "Let's see how many unique tags we have in our DataFrame"
   ]
  },
  {
   "cell_type": "code",
   "execution_count": 9,
   "metadata": {},
   "outputs": [
    {
     "name": "stdout",
     "output_type": "stream",
     "text": [
      "Number of unique tags:  9755\n"
     ]
    }
   ],
   "source": [
    "uniqueTags = [item for sublist in tagsAnalysis['preprocessedTags'] for item in sublist]\n",
    "multipleTags = uniqueTags.copy()\n",
    "uniqueTags = list(dict.fromkeys(uniqueTags))\n",
    "uniqueTags.remove('')\n",
    "print(\"Number of unique tags: \",len(uniqueTags))"
   ]
  },
  {
   "cell_type": "code",
   "execution_count": 10,
   "metadata": {},
   "outputs": [],
   "source": [
    "multipleTags_df = pd.DataFrame(multipleTags, columns=['Tags'])\n",
    "multipleTags_df = multipleTags_df[multipleTags_df['Tags'] != '']\n",
    "multipleTags_df['Count'] = 1\n",
    "multipleTags_df = multipleTags_df.groupby('Tags').count()"
   ]
  },
  {
   "cell_type": "code",
   "execution_count": 11,
   "metadata": {},
   "outputs": [
    {
     "data": {
      "text/html": [
       "<div>\n",
       "<style scoped>\n",
       "    .dataframe tbody tr th:only-of-type {\n",
       "        vertical-align: middle;\n",
       "    }\n",
       "\n",
       "    .dataframe tbody tr th {\n",
       "        vertical-align: top;\n",
       "    }\n",
       "\n",
       "    .dataframe thead th {\n",
       "        text-align: right;\n",
       "    }\n",
       "</style>\n",
       "<table border=\"1\" class=\"dataframe\">\n",
       "  <thead>\n",
       "    <tr style=\"text-align: right;\">\n",
       "      <th></th>\n",
       "      <th>Count</th>\n",
       "    </tr>\n",
       "    <tr>\n",
       "      <th>Tags</th>\n",
       "      <th></th>\n",
       "    </tr>\n",
       "  </thead>\n",
       "  <tbody>\n",
       "    <tr>\n",
       "      <th>java</th>\n",
       "      <td>5858</td>\n",
       "    </tr>\n",
       "    <tr>\n",
       "      <th>javascript</th>\n",
       "      <td>5841</td>\n",
       "    </tr>\n",
       "    <tr>\n",
       "      <th>php</th>\n",
       "      <td>5510</td>\n",
       "    </tr>\n",
       "    <tr>\n",
       "      <th>c#</th>\n",
       "      <td>4431</td>\n",
       "    </tr>\n",
       "    <tr>\n",
       "      <th>python</th>\n",
       "      <td>4326</td>\n",
       "    </tr>\n",
       "  </tbody>\n",
       "</table>\n",
       "</div>"
      ],
      "text/plain": [
       "            Count\n",
       "Tags             \n",
       "java         5858\n",
       "javascript   5841\n",
       "php          5510\n",
       "c#           4431\n",
       "python       4326"
      ]
     },
     "execution_count": 11,
     "metadata": {},
     "output_type": "execute_result"
    }
   ],
   "source": [
    "multipleTags_sorted = multipleTags_df.sort_values(by='Count', ascending=False)\n",
    "multipleTags_sorted.head()"
   ]
  },
  {
   "cell_type": "markdown",
   "metadata": {},
   "source": [
    "As there is many tags that appears only few times, let's see how much we have that appears more than 30 times"
   ]
  },
  {
   "cell_type": "code",
   "execution_count": 12,
   "metadata": {},
   "outputs": [
    {
     "name": "stdout",
     "output_type": "stream",
     "text": [
      "Number of tags that appears more than 80 times:  206\n"
     ]
    }
   ],
   "source": [
    "print(\"Number of tags that appears more than 80 times: \", len(multipleTags_df[multipleTags_df['Count'] > 80]))"
   ]
  },
  {
   "cell_type": "markdown",
   "metadata": {},
   "source": [
    "Let's see the 20 most common tags"
   ]
  },
  {
   "cell_type": "code",
   "execution_count": 13,
   "metadata": {},
   "outputs": [
    {
     "data": {
      "image/png": "[encoded data removed]",
      "text/plain": [
       "<Figure size 432x288 with 1 Axes>"
      ]
     },
     "metadata": {
      "needs_background": "light"
     },
     "output_type": "display_data"
    }
   ],
   "source": [
    "i=np.arange(20)\n",
    "multipleTags_sorted.head(20).plot(kind='bar')\n",
    "plt.title('Frequency of top 20 tags')\n",
    "plt.xticks(i, multipleTags_sorted.head(20).index)\n",
    "plt.xlabel('Tags')\n",
    "plt.ylabel('Counts')\n",
    "plt.show()"
   ]
  },
  {
   "cell_type": "markdown",
   "metadata": {},
   "source": [
    "## Keeping only the common tags for modeling"
   ]
  },
  {
   "cell_type": "markdown",
   "metadata": {},
   "source": [
    "The goal of this section is to clean the tags inside the Dataset ; We'll keep only the tags that appears more than 100 times"
   ]
  },
  {
   "cell_type": "code",
   "execution_count": 14,
   "metadata": {},
   "outputs": [],
   "source": [
    "tagsToKeep = multipleTags_df[multipleTags_df['Count'] > 80].reset_index().drop(columns=['Count'])['Tags']"
   ]
  },
  {
   "cell_type": "code",
   "execution_count": 15,
   "metadata": {},
   "outputs": [
    {
     "data": {
      "text/html": [
       "<div>\n",
       "<style scoped>\n",
       "    .dataframe tbody tr th:only-of-type {\n",
       "        vertical-align: middle;\n",
       "    }\n",
       "\n",
       "    .dataframe tbody tr th {\n",
       "        vertical-align: top;\n",
       "    }\n",
       "\n",
       "    .dataframe thead th {\n",
       "        text-align: right;\n",
       "    }\n",
       "</style>\n",
       "<table border=\"1\" class=\"dataframe\">\n",
       "  <thead>\n",
       "    <tr style=\"text-align: right;\">\n",
       "      <th></th>\n",
       "      <th>Count</th>\n",
       "    </tr>\n",
       "    <tr>\n",
       "      <th>Tags</th>\n",
       "      <th></th>\n",
       "    </tr>\n",
       "  </thead>\n",
       "  <tbody>\n",
       "    <tr>\n",
       "      <th>browser</th>\n",
       "      <td>81</td>\n",
       "    </tr>\n",
       "    <tr>\n",
       "      <th>jdbc</th>\n",
       "      <td>81</td>\n",
       "    </tr>\n",
       "    <tr>\n",
       "      <th>editor</th>\n",
       "      <td>82</td>\n",
       "    </tr>\n",
       "    <tr>\n",
       "      <th>split</th>\n",
       "      <td>83</td>\n",
       "    </tr>\n",
       "    <tr>\n",
       "      <th>java-8</th>\n",
       "      <td>84</td>\n",
       "    </tr>\n",
       "    <tr>\n",
       "      <th>...</th>\n",
       "      <td>...</td>\n",
       "    </tr>\n",
       "    <tr>\n",
       "      <th>python</th>\n",
       "      <td>4326</td>\n",
       "    </tr>\n",
       "    <tr>\n",
       "      <th>c#</th>\n",
       "      <td>4431</td>\n",
       "    </tr>\n",
       "    <tr>\n",
       "      <th>php</th>\n",
       "      <td>5510</td>\n",
       "    </tr>\n",
       "    <tr>\n",
       "      <th>javascript</th>\n",
       "      <td>5841</td>\n",
       "    </tr>\n",
       "    <tr>\n",
       "      <th>java</th>\n",
       "      <td>5858</td>\n",
       "    </tr>\n",
       "  </tbody>\n",
       "</table>\n",
       "<p>206 rows × 1 columns</p>\n",
       "</div>"
      ],
      "text/plain": [
       "            Count\n",
       "Tags             \n",
       "browser        81\n",
       "jdbc           81\n",
       "editor         82\n",
       "split          83\n",
       "java-8         84\n",
       "...           ...\n",
       "python       4326\n",
       "c#           4431\n",
       "php          5510\n",
       "javascript   5841\n",
       "java         5858\n",
       "\n",
       "[206 rows x 1 columns]"
      ]
     },
     "execution_count": 15,
     "metadata": {},
     "output_type": "execute_result"
    }
   ],
   "source": [
    "multipleTags_df[multipleTags_df['Count'] > 80].sort_values(ascending=True, by='Count')"
   ]
  },
  {
   "cell_type": "code",
   "execution_count": 16,
   "metadata": {},
   "outputs": [],
   "source": [
    "# First we merge the preprocessedTags into the main df\n",
    "dataTags = pd.merge(data, tags, left_index=True, right_index=True, how='inner')"
   ]
  },
  {
   "cell_type": "code",
   "execution_count": 17,
   "metadata": {},
   "outputs": [],
   "source": [
    "# Then we keep only the question where one of the tagsToKeep is in\n",
    "realTags = []\n",
    "for ind in dataTags['preprocessedTags']:\n",
    "    t = []\n",
    "    for val in ind:\n",
    "        if val in tagsToKeep.values:\n",
    "            t.append(val)\n",
    "    realTags.append(t)\n",
    "    \n",
    "realTags = pd.DataFrame({\"preprocessedTags\": realTags})\n",
    "realTags.index = dataTags.index"
   ]
  },
  {
   "cell_type": "code",
   "execution_count": 18,
   "metadata": {},
   "outputs": [],
   "source": [
    "dataTags = dataTags.drop(columns=['preprocessedTags'])\n",
    "dataTags = pd.merge(dataTags, realTags, left_index=True, right_index=True, how='inner')"
   ]
  },
  {
   "cell_type": "code",
   "execution_count": 19,
   "metadata": {},
   "outputs": [],
   "source": [
    "preprocessed_df = dataTags[['Body', 'Tags_']]"
   ]
  },
  {
   "cell_type": "code",
   "execution_count": 20,
   "metadata": {},
   "outputs": [],
   "source": [
    "vectorizer = CountVectorizer(tokenizer = lambda x: x.split(), binary='true')\n",
    "y_multilabel = vectorizer.fit_transform(preprocessed_df['Tags_'])"
   ]
  },
  {
   "cell_type": "code",
   "execution_count": 21,
   "metadata": {},
   "outputs": [],
   "source": [
    "def tags_to_consider(n):\n",
    "    tag_i_sum = y_multilabel.sum(axis=0).tolist()[0]\n",
    "    sorted_tags_i = sorted(range(len(tag_i_sum)), key=lambda i: tag_i_sum[i], reverse=True)\n",
    "    yn_multilabel=y_multilabel[:,sorted_tags_i[:n]]\n",
    "    return yn_multilabel\n",
    "\n",
    "def questions_covered_fn(numb):\n",
    "    yn_multilabel = tags_to_consider(numb)\n",
    "    x= yn_multilabel.sum(axis=1)\n",
    "    return (np.count_nonzero(x==0))"
   ]
  },
  {
   "cell_type": "code",
   "execution_count": 22,
   "metadata": {},
   "outputs": [],
   "source": [
    "questions_covered = []\n",
    "total_tags=y_multilabel.shape[1]\n",
    "total_qus=preprocessed_df.shape[0]\n",
    "for i in range(100, total_tags, 100):\n",
    "    questions_covered.append(np.round(((total_qus-questions_covered_fn(i))/total_qus)*100,3))"
   ]
  },
  {
   "cell_type": "code",
   "execution_count": 23,
   "metadata": {},
   "outputs": [
    {
     "name": "stdout",
     "output_type": "stream",
     "text": [
      "94.02 % of questions covered by 200 tags\n",
      "Number of questions that are not covered by 200 tags :  4927 out of  50000\n"
     ]
    }
   ],
   "source": [
    "print(questions_covered[1],\"% of questions covered by 200 tags\")\n",
    "print(\"Number of questions that are not covered by 200 tags : \", questions_covered_fn(100),\"out of \", total_qus)"
   ]
  },
  {
   "cell_type": "markdown",
   "metadata": {},
   "source": [
    "# Description"
   ]
  },
  {
   "cell_type": "markdown",
   "metadata": {},
   "source": [
    "## Cleaning"
   ]
  },
  {
   "cell_type": "code",
   "execution_count": 24,
   "metadata": {},
   "outputs": [],
   "source": [
    "description = dataTags[['Title','Body']].copy()\n",
    "# Let's add the title to the body\n",
    "description['Body'] = description[['Title','Body']].apply(lambda x: ' '.join(x), axis=1)\n",
    "description['Body'] = description[['Title','Body']].apply(lambda x: ' '.join(x), axis=1)\n",
    "description = description[['Body']]"
   ]
  },
  {
   "cell_type": "code",
   "execution_count": 25,
   "metadata": {},
   "outputs": [
    {
     "data": {
      "text/plain": [
       "Id\n",
       "591865      Qcodo vs. CakePHP vs. Zend Qcodo vs. CakePHP v...\n",
       "591892      Tools for Generating Mock Data? Tools for Gene...\n",
       "41441462    Laravel: The use statement with non-compound n...\n",
       "9552725     Add trustStore for client authentication Add t...\n",
       "33014984    Unassigned variable error Unassigned variable ...\n",
       "                                  ...                        \n",
       "18363295    jQuery: unbinding event of child? jQuery: unbi...\n",
       "18363308    what is the best way to remove words from rich...\n",
       "8625692     Array output miscellaneous Array output miscel...\n",
       "19723361    Is it ok to have a pointer to an invalid locat...\n",
       "25303563    Making a Circular Dial like menu Making a Circ...\n",
       "Name: Body, Length: 50000, dtype: object"
      ]
     },
     "execution_count": 25,
     "metadata": {},
     "output_type": "execute_result"
    }
   ],
   "source": [
    "description['Body']"
   ]
  },
  {
   "cell_type": "markdown",
   "metadata": {},
   "source": [
    "### HTML tags"
   ]
  },
  {
   "cell_type": "code",
   "execution_count": 26,
   "metadata": {},
   "outputs": [],
   "source": [
    "parser = lambda x: html.fromstring(x).text_content()\n",
    "description['Body_Cleaned'] = list(map(parser, description['Body']))\n",
    "description['Body_Cleaned'].replace(r'\\n', '', regex=True, inplace=True)\n",
    "# There is still some html tags, let's remove them with a regex\n",
    "TAG_RE = re.compile(r'<[^>]+>')\n",
    "tags_re = lambda x: TAG_RE.sub('', x)\n",
    "description['Body_Cleaned'] = list(map(tags_re, description['Body_Cleaned']))"
   ]
  },
  {
   "cell_type": "code",
   "execution_count": 27,
   "metadata": {},
   "outputs": [],
   "source": [
    "description = description.drop(columns=['Body'])"
   ]
  },
  {
   "cell_type": "markdown",
   "metadata": {},
   "source": [
    "### Normalisation"
   ]
  },
  {
   "cell_type": "markdown",
   "metadata": {},
   "source": [
    "The goal here is to extract the frequences of the words"
   ]
  },
  {
   "cell_type": "code",
   "execution_count": 28,
   "metadata": {},
   "outputs": [],
   "source": [
    "data_cleaned = pd.merge(dataTags, description, left_index=True,\n",
    "                        right_index=True, how='inner')\n",
    "\n",
    "data_cleaned = data_cleaned[['Title', 'Body_Cleaned', 'preprocessedTags']]"
   ]
  },
  {
   "cell_type": "code",
   "execution_count": 29,
   "metadata": {},
   "outputs": [
    {
     "data": {
      "text/html": [
       "<div>\n",
       "<style scoped>\n",
       "    .dataframe tbody tr th:only-of-type {\n",
       "        vertical-align: middle;\n",
       "    }\n",
       "\n",
       "    .dataframe tbody tr th {\n",
       "        vertical-align: top;\n",
       "    }\n",
       "\n",
       "    .dataframe thead th {\n",
       "        text-align: right;\n",
       "    }\n",
       "</style>\n",
       "<table border=\"1\" class=\"dataframe\">\n",
       "  <thead>\n",
       "    <tr style=\"text-align: right;\">\n",
       "      <th></th>\n",
       "      <th>Title</th>\n",
       "      <th>Body_Cleaned</th>\n",
       "      <th>preprocessedTags</th>\n",
       "    </tr>\n",
       "    <tr>\n",
       "      <th>Id</th>\n",
       "      <th></th>\n",
       "      <th></th>\n",
       "      <th></th>\n",
       "    </tr>\n",
       "  </thead>\n",
       "  <tbody>\n",
       "    <tr>\n",
       "      <th>591865</th>\n",
       "      <td>Qcodo vs. CakePHP vs. Zend</td>\n",
       "      <td>Qcodo vs. CakePHP vs. Zend Qcodo vs. CakePHP v...</td>\n",
       "      <td>[php]</td>\n",
       "    </tr>\n",
       "    <tr>\n",
       "      <th>591892</th>\n",
       "      <td>Tools for Generating Mock Data?</td>\n",
       "      <td>Tools for Generating Mock Data? Tools for Gene...</td>\n",
       "      <td>[testing]</td>\n",
       "    </tr>\n",
       "    <tr>\n",
       "      <th>41441462</th>\n",
       "      <td>Laravel: The use statement with non-compound n...</td>\n",
       "      <td>Laravel: The use statement with non-compound n...</td>\n",
       "      <td>[php, laravel]</td>\n",
       "    </tr>\n",
       "    <tr>\n",
       "      <th>9552725</th>\n",
       "      <td>Add trustStore for client authentication</td>\n",
       "      <td>Add trustStore for client authentication Add t...</td>\n",
       "      <td>[java]</td>\n",
       "    </tr>\n",
       "    <tr>\n",
       "      <th>33014984</th>\n",
       "      <td>Unassigned variable error</td>\n",
       "      <td>Unassigned variable error Unassigned variable ...</td>\n",
       "      <td>[c#]</td>\n",
       "    </tr>\n",
       "  </tbody>\n",
       "</table>\n",
       "</div>"
      ],
      "text/plain": [
       "                                                      Title  \\\n",
       "Id                                                            \n",
       "591865                           Qcodo vs. CakePHP vs. Zend   \n",
       "591892                      Tools for Generating Mock Data?   \n",
       "41441462  Laravel: The use statement with non-compound n...   \n",
       "9552725            Add trustStore for client authentication   \n",
       "33014984                          Unassigned variable error   \n",
       "\n",
       "                                               Body_Cleaned preprocessedTags  \n",
       "Id                                                                            \n",
       "591865    Qcodo vs. CakePHP vs. Zend Qcodo vs. CakePHP v...            [php]  \n",
       "591892    Tools for Generating Mock Data? Tools for Gene...        [testing]  \n",
       "41441462  Laravel: The use statement with non-compound n...   [php, laravel]  \n",
       "9552725   Add trustStore for client authentication Add t...           [java]  \n",
       "33014984  Unassigned variable error Unassigned variable ...             [c#]  "
      ]
     },
     "execution_count": 29,
     "metadata": {},
     "output_type": "execute_result"
    }
   ],
   "source": [
    "data_cleaned.head()"
   ]
  },
  {
   "cell_type": "markdown",
   "metadata": {},
   "source": [
    "### Stop Words"
   ]
  },
  {
   "cell_type": "code",
   "execution_count": 30,
   "metadata": {},
   "outputs": [
    {
     "name": "stderr",
     "output_type": "stream",
     "text": [
      "[nltk_data] Downloading package stopwords to\n",
      "[nltk_data]     /home/mlmaster/nltk_data...\n",
      "[nltk_data]   Package stopwords is already up-to-date!\n"
     ]
    },
    {
     "data": {
      "text/plain": [
       "True"
      ]
     },
     "execution_count": 30,
     "metadata": {},
     "output_type": "execute_result"
    }
   ],
   "source": [
    "nltk.download('stopwords')"
   ]
  },
  {
   "cell_type": "code",
   "execution_count": 31,
   "metadata": {},
   "outputs": [],
   "source": [
    "# First we get the freq of words on our dataset\n",
    "tokenizer = nltk.RegexpTokenizer(r'\\w+')\n",
    "\n",
    "desc = defaultdict(list)\n",
    "\n",
    "for i in data_cleaned.index:\n",
    "    desc[i] += tokenizer.tokenize(data_cleaned.loc[i, 'Body_Cleaned'].lower())\n",
    "    \n",
    "stats, freq = dict(), dict()\n",
    "\n",
    "for k, v in zip(desc.keys(), desc.values()):\n",
    "    freq[k] = fq = nltk.FreqDist(v)\n",
    "    stats[k] = {'total': len(v), 'Unique': len(fq.keys())} "
   ]
  },
  {
   "cell_type": "code",
   "execution_count": 32,
   "metadata": {},
   "outputs": [],
   "source": [
    "freq_totale = nltk.Counter()\n",
    "for k, v in zip(desc.keys(), desc.values()):\n",
    "    freq_totale += freq[k]"
   ]
  },
  {
   "cell_type": "code",
   "execution_count": 33,
   "metadata": {},
   "outputs": [],
   "source": [
    "freq_totale_sorted = pd.DataFrame.from_dict(freq_totale, orient='index').sort_values(by=0, ascending=False)\n",
    "freq_totale_sorted = freq_totale_sorted[freq_totale_sorted[0] <= 18000]"
   ]
  },
  {
   "cell_type": "code",
   "execution_count": 34,
   "metadata": {},
   "outputs": [
    {
     "data": {
      "image/png": "[encoded data removed]",
      "text/plain": [
       "<Figure size 432x288 with 1 Axes>"
      ]
     },
     "metadata": {
      "needs_background": "light"
     },
     "output_type": "display_data"
    }
   ],
   "source": [
    "i=np.arange(20)\n",
    "freq_totale_sorted.head(20).plot(kind='bar')\n",
    "plt.title('Frequency of top 20 Words')\n",
    "plt.xticks(i, freq_totale_sorted.head(20).index)\n",
    "plt.xlabel('Tags')\n",
    "plt.ylabel('Counts')\n",
    "plt.show()"
   ]
  },
  {
   "cell_type": "code",
   "execution_count": 35,
   "metadata": {},
   "outputs": [],
   "source": [
    "# Here is our list of stop words\n",
    "to_keep = { key:value for (key,value) in freq_totale.items() if value <= 18000 and value >= 50}.keys()\n",
    "# Let's add the common stop words list of nltk\n",
    "sw = set()\n",
    "sw.update(tuple(nltk.corpus.stopwords.words('english')))"
   ]
  },
  {
   "cell_type": "code",
   "execution_count": 36,
   "metadata": {},
   "outputs": [
    {
     "data": {
      "text/plain": [
       "6297"
      ]
     },
     "execution_count": 36,
     "metadata": {},
     "output_type": "execute_result"
    }
   ],
   "source": [
    "len(to_keep)"
   ]
  },
  {
   "cell_type": "markdown",
   "metadata": {},
   "source": [
    "Let's clean the words in our description"
   ]
  },
  {
   "cell_type": "code",
   "execution_count": 37,
   "metadata": {},
   "outputs": [
    {
     "name": "stdout",
     "output_type": "stream",
     "text": [
      "Performing Step  0 / 50000\n",
      "Performing Step  2000 / 50000\n",
      "Performing Step  4000 / 50000\n",
      "Performing Step  6000 / 50000\n",
      "Performing Step  8000 / 50000\n",
      "Performing Step  10000 / 50000\n",
      "Performing Step  12000 / 50000\n",
      "Performing Step  14000 / 50000\n",
      "Performing Step  16000 / 50000\n",
      "Performing Step  18000 / 50000\n",
      "Performing Step  20000 / 50000\n",
      "Performing Step  22000 / 50000\n",
      "Performing Step  24000 / 50000\n",
      "Performing Step  26000 / 50000\n",
      "Performing Step  28000 / 50000\n",
      "Performing Step  30000 / 50000\n",
      "Performing Step  32000 / 50000\n",
      "Performing Step  34000 / 50000\n",
      "Performing Step  36000 / 50000\n",
      "Performing Step  38000 / 50000\n",
      "Performing Step  40000 / 50000\n",
      "Performing Step  42000 / 50000\n",
      "Performing Step  44000 / 50000\n",
      "Performing Step  46000 / 50000\n",
      "Performing Step  48000 / 50000\n"
     ]
    }
   ],
   "source": [
    "stemmer = EnglishStemmer()\n",
    "\n",
    "tokenizer = nltk.RegexpTokenizer(r'\\w+')\n",
    "\n",
    "desc = []\n",
    "unstemmed_desc = []\n",
    "i = 0\n",
    "for index, row in data_cleaned.iterrows():\n",
    "    if i%2000 == 0:\n",
    "        print(\"Performing Step \", i, \"/\", data_cleaned.shape[0])\n",
    "    token = tokenizer.tokenize(row['Body_Cleaned'].lower())\n",
    "    description = [w for w in token if not w in list(sw) and w in list(to_keep)]\n",
    "    unstemmed_desc.append(description)\n",
    "    description = [stemmer.stem(w) for w in description]\n",
    "    desc.append(description)\n",
    "    i += 1"
   ]
  },
  {
   "cell_type": "code",
   "execution_count": 38,
   "metadata": {},
   "outputs": [],
   "source": [
    "data_cleaned_ = data_cleaned.copy() # Making sure we have a copy"
   ]
  },
  {
   "cell_type": "code",
   "execution_count": 39,
   "metadata": {},
   "outputs": [],
   "source": [
    "data_cleaned['desc'] = [' '.join(map(str, l)) for l in desc]\n",
    "data_cleaned['unstemmed_desc'] = [' '.join(map(str, l)) for l in unstemmed_desc]"
   ]
  },
  {
   "cell_type": "code",
   "execution_count": 40,
   "metadata": {},
   "outputs": [],
   "source": [
    "data_cleaned = data_cleaned[['desc', 'unstemmed_desc', 'preprocessedTags']]\n",
    "tags = pd.DataFrame(data_cleaned.preprocessedTags.tolist(),\n",
    "                    columns=['Tag1', 'Tag2', 'Tag3', 'Tag4', 'Tag5'],\n",
    "                    index=data_cleaned.index)['Tag1']\n",
    "data_cleaned = pd.merge(data_cleaned, tags, left_index=True, right_index=True, how='inner')\n",
    "data_cleaned = data_cleaned.dropna()"
   ]
  },
  {
   "cell_type": "code",
   "execution_count": 41,
   "metadata": {},
   "outputs": [
    {
     "data": {
      "text/html": [
       "<div>\n",
       "<style scoped>\n",
       "    .dataframe tbody tr th:only-of-type {\n",
       "        vertical-align: middle;\n",
       "    }\n",
       "\n",
       "    .dataframe tbody tr th {\n",
       "        vertical-align: top;\n",
       "    }\n",
       "\n",
       "    .dataframe thead th {\n",
       "        text-align: right;\n",
       "    }\n",
       "</style>\n",
       "<table border=\"1\" class=\"dataframe\">\n",
       "  <thead>\n",
       "    <tr style=\"text-align: right;\">\n",
       "      <th></th>\n",
       "      <th>desc</th>\n",
       "      <th>unstemmed_desc</th>\n",
       "      <th>preprocessedTags</th>\n",
       "      <th>Tag1</th>\n",
       "    </tr>\n",
       "    <tr>\n",
       "      <th>Id</th>\n",
       "      <th></th>\n",
       "      <th></th>\n",
       "      <th></th>\n",
       "      <th></th>\n",
       "    </tr>\n",
       "  </thead>\n",
       "  <tbody>\n",
       "    <tr>\n",
       "      <th>591865</th>\n",
       "      <td>vs cakephp vs zend vs cakephp vs zend cakephp ...</td>\n",
       "      <td>vs cakephp vs zend vs cakephp vs zend cakephp ...</td>\n",
       "      <td>[php]</td>\n",
       "      <td>php</td>\n",
       "    </tr>\n",
       "    <tr>\n",
       "      <th>591892</th>\n",
       "      <td>tool generat mock data tool generat mock data ...</td>\n",
       "      <td>tools generating mock data tools generating mo...</td>\n",
       "      <td>[testing]</td>\n",
       "      <td>testing</td>\n",
       "    </tr>\n",
       "    <tr>\n",
       "      <th>41441462</th>\n",
       "      <td>laravel use statement non name cach effect lar...</td>\n",
       "      <td>laravel use statement non name cache effect la...</td>\n",
       "      <td>[php, laravel]</td>\n",
       "      <td>php</td>\n",
       "    </tr>\n",
       "    <tr>\n",
       "      <th>9552725</th>\n",
       "      <td>add client authent add client authent server r...</td>\n",
       "      <td>add client authentication add client authentic...</td>\n",
       "      <td>[java]</td>\n",
       "      <td>java</td>\n",
       "    </tr>\n",
       "    <tr>\n",
       "      <th>33014984</th>\n",
       "      <td>variabl error variabl error system namespac cl...</td>\n",
       "      <td>variable error variable error system namespace...</td>\n",
       "      <td>[c#]</td>\n",
       "      <td>c#</td>\n",
       "    </tr>\n",
       "    <tr>\n",
       "      <th>...</th>\n",
       "      <td>...</td>\n",
       "      <td>...</td>\n",
       "      <td>...</td>\n",
       "      <td>...</td>\n",
       "    </tr>\n",
       "    <tr>\n",
       "      <th>18363295</th>\n",
       "      <td>jqueri event child jqueri event child anchor w...</td>\n",
       "      <td>jquery event child jquery event child anchor w...</td>\n",
       "      <td>[javascript, jquery]</td>\n",
       "      <td>javascript</td>\n",
       "    </tr>\n",
       "    <tr>\n",
       "      <th>18363308</th>\n",
       "      <td>best way remov word best way remov word strong...</td>\n",
       "      <td>best way remove words best way remove words st...</td>\n",
       "      <td>[c#, winforms]</td>\n",
       "      <td>c#</td>\n",
       "    </tr>\n",
       "    <tr>\n",
       "      <th>8625692</th>\n",
       "      <td>array output array output includ main 3 b 6 pr...</td>\n",
       "      <td>array output array output include main 3 b 6 p...</td>\n",
       "      <td>[c]</td>\n",
       "      <td>c</td>\n",
       "    </tr>\n",
       "    <tr>\n",
       "      <th>19723361</th>\n",
       "      <td>ok pointer invalid locat use ok pointer invali...</td>\n",
       "      <td>ok pointer invalid location use ok pointer inv...</td>\n",
       "      <td>[c]</td>\n",
       "      <td>c</td>\n",
       "    </tr>\n",
       "    <tr>\n",
       "      <th>25303563</th>\n",
       "      <td>make circular menu make circular menu current ...</td>\n",
       "      <td>making circular menu making circular menu curr...</td>\n",
       "      <td>[android, android-layout, user-interface]</td>\n",
       "      <td>android</td>\n",
       "    </tr>\n",
       "  </tbody>\n",
       "</table>\n",
       "<p>47055 rows × 4 columns</p>\n",
       "</div>"
      ],
      "text/plain": [
       "                                                       desc  \\\n",
       "Id                                                            \n",
       "591865    vs cakephp vs zend vs cakephp vs zend cakephp ...   \n",
       "591892    tool generat mock data tool generat mock data ...   \n",
       "41441462  laravel use statement non name cach effect lar...   \n",
       "9552725   add client authent add client authent server r...   \n",
       "33014984  variabl error variabl error system namespac cl...   \n",
       "...                                                     ...   \n",
       "18363295  jqueri event child jqueri event child anchor w...   \n",
       "18363308  best way remov word best way remov word strong...   \n",
       "8625692   array output array output includ main 3 b 6 pr...   \n",
       "19723361  ok pointer invalid locat use ok pointer invali...   \n",
       "25303563  make circular menu make circular menu current ...   \n",
       "\n",
       "                                             unstemmed_desc  \\\n",
       "Id                                                            \n",
       "591865    vs cakephp vs zend vs cakephp vs zend cakephp ...   \n",
       "591892    tools generating mock data tools generating mo...   \n",
       "41441462  laravel use statement non name cache effect la...   \n",
       "9552725   add client authentication add client authentic...   \n",
       "33014984  variable error variable error system namespace...   \n",
       "...                                                     ...   \n",
       "18363295  jquery event child jquery event child anchor w...   \n",
       "18363308  best way remove words best way remove words st...   \n",
       "8625692   array output array output include main 3 b 6 p...   \n",
       "19723361  ok pointer invalid location use ok pointer inv...   \n",
       "25303563  making circular menu making circular menu curr...   \n",
       "\n",
       "                                   preprocessedTags        Tag1  \n",
       "Id                                                               \n",
       "591865                                        [php]         php  \n",
       "591892                                    [testing]     testing  \n",
       "41441462                             [php, laravel]         php  \n",
       "9552725                                      [java]        java  \n",
       "33014984                                       [c#]          c#  \n",
       "...                                             ...         ...  \n",
       "18363295                       [javascript, jquery]  javascript  \n",
       "18363308                             [c#, winforms]          c#  \n",
       "8625692                                         [c]           c  \n",
       "19723361                                        [c]           c  \n",
       "25303563  [android, android-layout, user-interface]     android  \n",
       "\n",
       "[47055 rows x 4 columns]"
      ]
     },
     "execution_count": 41,
     "metadata": {},
     "output_type": "execute_result"
    }
   ],
   "source": [
    "data_cleaned"
   ]
  },
  {
   "cell_type": "markdown",
   "metadata": {},
   "source": [
    "# Saving data"
   ]
  },
  {
   "cell_type": "code",
   "execution_count": 42,
   "metadata": {},
   "outputs": [
    {
     "ename": "FileNotFoundError",
     "evalue": "[Errno 2] No such file or directory: 'Flask/to_keep.csv'",
     "output_type": "error",
     "traceback": [
      "\u001b[0;31m---------------------------------------------------------------------------\u001b[0m",
      "\u001b[0;31mFileNotFoundError\u001b[0m                         Traceback (most recent call last)",
      "\u001b[0;32m<ipython-input-42-fcb5bf62f378>\u001b[0m in \u001b[0;36m<module>\u001b[0;34m\u001b[0m\n\u001b[1;32m      1\u001b[0m \u001b[0;32mimport\u001b[0m \u001b[0mcsv\u001b[0m\u001b[0;34m\u001b[0m\u001b[0;34m\u001b[0m\u001b[0m\n\u001b[1;32m      2\u001b[0m \u001b[0mto_keep_list\u001b[0m \u001b[0;34m=\u001b[0m \u001b[0mlist\u001b[0m\u001b[0;34m(\u001b[0m\u001b[0mto_keep\u001b[0m\u001b[0;34m)\u001b[0m\u001b[0;34m\u001b[0m\u001b[0;34m\u001b[0m\u001b[0m\n\u001b[0;32m----> 3\u001b[0;31m \u001b[0;32mwith\u001b[0m \u001b[0mopen\u001b[0m\u001b[0;34m(\u001b[0m\u001b[0;34m\"Flask/to_keep.csv\"\u001b[0m\u001b[0;34m,\u001b[0m \u001b[0;34m'w'\u001b[0m\u001b[0;34m)\u001b[0m \u001b[0;32mas\u001b[0m \u001b[0mfp\u001b[0m\u001b[0;34m:\u001b[0m\u001b[0;34m\u001b[0m\u001b[0;34m\u001b[0m\u001b[0m\n\u001b[0m\u001b[1;32m      4\u001b[0m     \u001b[0mwr\u001b[0m \u001b[0;34m=\u001b[0m \u001b[0mcsv\u001b[0m\u001b[0;34m.\u001b[0m\u001b[0mwriter\u001b[0m\u001b[0;34m(\u001b[0m\u001b[0mfp\u001b[0m\u001b[0;34m,\u001b[0m \u001b[0mquoting\u001b[0m\u001b[0;34m=\u001b[0m\u001b[0mcsv\u001b[0m\u001b[0;34m.\u001b[0m\u001b[0mQUOTE_ALL\u001b[0m\u001b[0;34m)\u001b[0m\u001b[0;34m\u001b[0m\u001b[0;34m\u001b[0m\u001b[0m\n\u001b[1;32m      5\u001b[0m     \u001b[0mwr\u001b[0m\u001b[0;34m.\u001b[0m\u001b[0mwriterow\u001b[0m\u001b[0;34m(\u001b[0m\u001b[0mto_keep_list\u001b[0m\u001b[0;34m)\u001b[0m\u001b[0;34m\u001b[0m\u001b[0;34m\u001b[0m\u001b[0m\n",
      "\u001b[0;31mFileNotFoundError\u001b[0m: [Errno 2] No such file or directory: 'Flask/to_keep.csv'"
     ]
    }
   ],
   "source": [
    "import csv\n",
    "to_keep_list = list(to_keep)\n",
    "with open(\"Flask/to_keep.csv\", 'w') as fp:\n",
    "    wr = csv.writer(fp, quoting=csv.QUOTE_ALL)\n",
    "    wr.writerow(to_keep_list)\n",
    "\n",
    "sw_list = list(sw)\n",
    "with open(\"Flask/sw.csv\", 'w') as fp:\n",
    "    wr = csv.writer(fp, quoting=csv.QUOTE_ALL)\n",
    "    wr.writerow(sw_list)"
   ]
  },
  {
   "cell_type": "code",
   "execution_count": 43,
   "metadata": {},
   "outputs": [],
   "source": [
    "data_cleaned.to_csv('data_cleaned.csv')"
   ]
  },
  {
   "cell_type": "code",
   "execution_count": null,
   "metadata": {},
   "outputs": [],
   "source": []
  }
 ],
 "metadata": {
  "kernelspec": {
   "display_name": "Python 3",
   "language": "python",
   "name": "python3"
  },
  "language_info": {
   "codemirror_mode": {
    "name": "ipython",
    "version": 3
   },
   "file_extension": ".py",
   "mimetype": "text/x-python",
   "name": "python",
   "nbconvert_exporter": "python",
   "pygments_lexer": "ipython3",
   "version": "3.8.3"
  }
 },
 "nbformat": 4,
 "nbformat_minor": 4
}
